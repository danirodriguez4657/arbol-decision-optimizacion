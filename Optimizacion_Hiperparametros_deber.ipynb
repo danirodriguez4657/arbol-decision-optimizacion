{
  "cells": [
    {
      "cell_type": "markdown",
      "metadata": {
        "id": "i2gMhT7T-7jO"
      },
      "source": [
        "<a href=\"https://colab.research.google.com/github/andres-merino/AprendizajeAutomaticoInicial-05-N0105/blob/main/2-Ejercicios/10-Optimizacion-Hiperparametros.ipynb\" target=\"_parent\"><img src=\"https://colab.research.google.com/assets/colab-badge.svg\" alt=\"Open In Colab\"/></a>"
      ]
    },
    {
      "cell_type": "markdown",
      "metadata": {
        "id": "-hDp65hb-7jT"
      },
      "source": [
        "<table style=\"border: none; border-collapse: collapse;\">\n",
        "    <tr>\n",
        "        <td style=\"width: 20%; vertical-align: middle; padding-right: 10px;\">\n",
        "            <img src=\"https://i.imgur.com/nt7hloA.png\" width=\"100\">\n",
        "        </td>\n",
        "        <td style=\"width: 2px; text-align: center;\">\n",
        "            <font color=\"#0030A1\" size=\"7\">|</font><br>\n",
        "            <font color=\"#0030A1\" size=\"7\">|</font>\n",
        "        </td>\n",
        "        <td>\n",
        "            <p style=\"font-variant: small-caps;\"><font color=\"#0030A1\" size=\"5\">\n",
        "                <b>Escuela de Ciencias Físicas y Matemática</b>\n",
        "            </font> </p>\n",
        "            <p style=\"font-variant: small-caps;\"><font color=\"#0030A1\" size=\"4\">\n",
        "                Aprendizaje Automático Inicial &bull; Optmización de Hiperparámetros\n",
        "            </font></p>\n",
        "            <p style=\"font-style: oblique;\"><font color=\"#0030A1\" size=\"3\">\n",
        "                Andrés Merino &bull; 2025-04\n",
        "            </font></p>\n",
        "        </td>  \n",
        "    </tr>\n",
        "</table>"
      ]
    },
    {
      "cell_type": "markdown",
      "metadata": {
        "id": "wKdaAsXi-7jV"
      },
      "source": [
        "---\n",
        "## <font color='264CC7'> Introducción </font>\n",
        "\n",
        "A lo largo de este taller, aplicaremos optimización de hiperparámetros en un modelo que elijas."
      ]
    },
    {
      "cell_type": "markdown",
      "metadata": {
        "id": "omoUkvgw-7jW"
      },
      "source": [
        "Los paquetes necesarios son:"
      ]
    },
    {
      "cell_type": "code",
      "execution_count": 22,
      "metadata": {
        "id": "wDLScrhA-7jW"
      },
      "outputs": [],
      "source": [
        "# Paquetes necesarios\n",
        "import pandas as pd  # Manejo de datos\n",
        "import matplotlib.pyplot as plt  # Visualización\n",
        "\n",
        "from sklearn.model_selection import train_test_split # División de datos\n",
        "from sklearn.metrics import accuracy_score, confusion_matrix, classification_report  # Métrica de evaluación\n",
        "\n",
        "from sklearn.model_selection import GridSearchCV, RandomizedSearchCV, KFold  # Búsqueda de hiperparámetros\n",
        "from sklearn.tree import DecisionTreeClassifier, plot_tree\n",
        "\n",
        "from scipy.stats import randint\n",
        "\n",
        "import joblib  # para guardar y cargar modelos"
      ]
    },
    {
      "cell_type": "markdown",
      "metadata": {
        "id": "SATF5fTG-7jY"
      },
      "source": [
        "---\n",
        "## <font color='264CC7'> Clasificación </font>"
      ]
    },
    {
      "cell_type": "markdown",
      "metadata": {
        "id": "tX7Z_ZEJ-7jZ"
      },
      "source": [
        "\n",
        "### <font color='264CC7'> Preprocesamiento de datos </font>"
      ]
    },
    {
      "cell_type": "markdown",
      "metadata": {
        "id": "kFD6WdXZ-7jZ"
      },
      "source": [
        "Primero necesitas el conjunto de datos. Los datos a utilzar son los seleccionados en la clase anterior.\n",
        "\n",
        "<div style=\"background-color: #edf1f8; border-color: #264CC7; border-left: 5px solid #264CC7; padding: 0.5em;\">\n",
        "<strong>Ejercicio:</strong><br>\n",
        "    Carga el conjunto de datos y procésalos:\n",
        "<ul>\n",
        "  <li>Muestra algunos datos.</li>\n",
        "  <li>Muestra una descripción de los datos.</li>\n",
        "  <li>Escala los datos si es necesario.</li>\n",
        "</ul>\n",
        "</div>"
      ]
    },
    {
      "cell_type": "code",
      "execution_count": 3,
      "metadata": {
        "id": "PQ0Ry0KA-7jb",
        "colab": {
          "base_uri": "https://localhost:8080/"
        },
        "outputId": "1ab2259f-bb31-4b19-be87-42b099d490bf"
      },
      "outputs": [
        {
          "output_type": "stream",
          "name": "stdout",
          "text": [
            "Primeras filas del dataset:\n",
            "   Glucose   BMI  Age  BloodPressure  DiabetesPedigreeFunction  Outcome\n",
            "0      148  33.6   50             72                     0.627        1\n",
            "1       85  26.6   31             66                     0.351        0\n",
            "2      183  23.3   32             64                     0.672        1\n",
            "3       89  28.1   21             66                     0.167        0\n",
            "4      137  43.1   33             40                     2.288        1\n",
            "\n",
            "Descripción estadística:\n",
            "          Glucose         BMI         Age  BloodPressure  \\\n",
            "count  768.000000  768.000000  768.000000     768.000000   \n",
            "mean   120.894531   31.992578   33.240885      69.105469   \n",
            "std     31.972618    7.884160   11.760232      19.355807   \n",
            "min      0.000000    0.000000   21.000000       0.000000   \n",
            "25%     99.000000   27.300000   24.000000      62.000000   \n",
            "50%    117.000000   32.000000   29.000000      72.000000   \n",
            "75%    140.250000   36.600000   41.000000      80.000000   \n",
            "max    199.000000   67.100000   81.000000     122.000000   \n",
            "\n",
            "       DiabetesPedigreeFunction     Outcome  \n",
            "count                768.000000  768.000000  \n",
            "mean                   0.471876    0.348958  \n",
            "std                    0.331329    0.476951  \n",
            "min                    0.078000    0.000000  \n",
            "25%                    0.243750    0.000000  \n",
            "50%                    0.372500    0.000000  \n",
            "75%                    0.626250    1.000000  \n",
            "max                    2.420000    1.000000  \n"
          ]
        }
      ],
      "source": [
        "# Cargar datos\n",
        "df = pd.read_csv(\"https://raw.githubusercontent.com/danirodriguez4657/datos_diabetes/refs/heads/main/diabetes_limpio_reducidos.csv\")\n",
        "\n",
        "# Mostrar los primeros datos\n",
        "print(\"Primeras filas del dataset:\")\n",
        "print(df.head())\n",
        "\n",
        "# Descripción estadística de los datos\n",
        "print(\"\\nDescripción estadística:\")\n",
        "print(df.describe())\n",
        "\n",
        "# Separar las variables predictoras\n",
        "X = df.drop(\"Outcome\", axis=1)  # Variables predictoras\n",
        "y = df[\"Outcome\"]               # Variable objetivo\n",
        "\n",
        "#Dividir los datos en entrenamiento y prueba\n",
        "X_train, X_test, y_train, y_test = train_test_split(\n",
        "    X, y, test_size=0.2, random_state=42, stratify=y\n",
        ")"
      ]
    },
    {
      "cell_type": "markdown",
      "metadata": {
        "id": "79phdi_R-7jb"
      },
      "source": [
        "\n",
        "### <font color='264CC7'> Modelo </font>\n"
      ]
    },
    {
      "cell_type": "markdown",
      "metadata": {
        "id": "OMs5n-kw-7jc"
      },
      "source": [
        "<div style=\"background-color: #edf1f8; border-color: #264CC7; border-left: 5px solid #264CC7; padding: 0.5em;\">\n",
        "<strong>Ejercicio:</strong><br>\n",
        "    Selecciona el mejor modelo de las clases anteriores.\n",
        "<ul>\n",
        "  <li>Muestra los hiperparámetros del modelo.</li>\n",
        "  <li>Consulta qué significan al menos 4 hiperparámetros.</li>\n",
        "  <li>Selecciona los hiperparámetros que deseas optimizar, al menos 3.</li>\n",
        "</ul>\n",
        "</div>"
      ]
    },
    {
      "cell_type": "code",
      "execution_count": 12,
      "metadata": {
        "id": "942_CcXj-7jd",
        "colab": {
          "base_uri": "https://localhost:8080/"
        },
        "outputId": "a0d0ddb8-5e29-4487-b2fa-938f0c450ef5"
      },
      "outputs": [
        {
          "output_type": "stream",
          "name": "stdout",
          "text": [
            "{'ccp_alpha': 0.0, 'class_weight': None, 'criterion': 'gini', 'max_depth': None, 'max_features': None, 'max_leaf_nodes': None, 'min_impurity_decrease': 0.0, 'min_samples_leaf': 1, 'min_samples_split': 2, 'min_weight_fraction_leaf': 0.0, 'monotonic_cst': None, 'random_state': 42, 'splitter': 'best'}\n"
          ]
        }
      ],
      "source": [
        "# Crear y entrenar un arbol con ganancia de información\n",
        "modelo_base = DecisionTreeClassifier(random_state=42)\n",
        "modelo_base.fit(X_train, y_train)\n",
        "\n",
        "# Imprimir los parametros del modelo\n",
        "print(modelo_base.get_params())"
      ]
    },
    {
      "cell_type": "markdown",
      "metadata": {
        "id": "FPlH8COx-7jd"
      },
      "source": [
        "| Hiperparámetro      | Significado                                                                                 |\n",
        "| ------------------- | ------------------------------------------------------------------------------------------- |\n",
        "| `criterion`         | Criterio para medir la calidad de una división. Puede ser `'gini'` o `'entropy'`.           |\n",
        "| `max_depth`         | Profundidad máxima del árbol. Limita cuánto puede crecer. Previene sobreajuste.             |\n",
        "| `min_samples_split` | Número mínimo de muestras necesarias para dividir un nodo interno.                          |\n",
        "| `min_samples_leaf`  | Número mínimo de muestras que debe tener una hoja. Controla el tamaño mínimo de los grupos. |\n"
      ]
    },
    {
      "cell_type": "markdown",
      "metadata": {
        "id": "Lo2Xy0II-7jd"
      },
      "source": [
        "### <font color='264CC7'> Optimización por GridSearch </font>"
      ]
    },
    {
      "cell_type": "markdown",
      "metadata": {
        "id": "_vH6fpc_-7je"
      },
      "source": [
        "<div style=\"background-color: #edf1f8; border-color: #264CC7; border-left: 5px solid #264CC7; padding: 0.5em;\">\n",
        "<strong>Ejercicio:</strong><br>\n",
        "    Aplica GridSearch para optimizar los hiperparámetros del modelo.\n",
        "<ul>\n",
        "  <li>Para cada hiperparámetro, selecciona al menos 3 valores, si es posible.</li>\n",
        "  <li>Utiliza al menos 5 validaciones cruzadas.</li>\n",
        "  <li>Muestra los parámetros óptimos y su score.</li>\n",
        "</ul>\n",
        "</div>"
      ]
    },
    {
      "cell_type": "code",
      "execution_count": 13,
      "metadata": {
        "id": "H-RIp49Q-7je"
      },
      "outputs": [],
      "source": [
        "# Parámetros para optimizar (con al menos 3 valores cada uno)\n",
        "parametros = {\n",
        "    'max_depth': [None, 3, 5, 7],\n",
        "    'min_samples_split': [2, 5, 10],\n",
        "    'min_samples_leaf': [1, 2, 4],\n",
        "    'criterion': ['gini', 'entropy']\n",
        "}"
      ]
    },
    {
      "cell_type": "code",
      "execution_count": 14,
      "metadata": {
        "id": "CqPFGUGI-7je"
      },
      "outputs": [],
      "source": [
        "# Validación cruzada KFold con 5 splits\n",
        "k_fold = KFold(n_splits=5, shuffle=True, random_state=42)"
      ]
    },
    {
      "cell_type": "code",
      "source": [
        "# Configurar GridSearchCV\n",
        "grid_search = GridSearchCV(estimator=modelo_base,\n",
        "                           param_grid=parametros,\n",
        "                           cv=k_fold,\n",
        "                           scoring='accuracy',\n",
        "                           n_jobs=-1)\n",
        "\n",
        "# Entrenar GridSearch con tus datos (X_train, y_train)\n",
        "grid_search.fit(X_train, y_train)\n",
        "\n",
        "# Mostrar los mejores hiperparámetros y score\n",
        "print(\"Mejores hiperparámetros:\", grid_search.best_params_)\n",
        "print(\"Mejor score (accuracy):\", grid_search.best_score_)"
      ],
      "metadata": {
        "colab": {
          "base_uri": "https://localhost:8080/"
        },
        "id": "5-Wn2eJ8XjaC",
        "outputId": "b99432d6-f25d-45a3-9ae2-724e3231a814"
      },
      "execution_count": 15,
      "outputs": [
        {
          "output_type": "stream",
          "name": "stdout",
          "text": [
            "Mejores hiperparámetros: {'criterion': 'gini', 'max_depth': 3, 'min_samples_leaf': 4, 'min_samples_split': 2}\n",
            "Mejor score (accuracy): 0.7442889510862322\n"
          ]
        }
      ]
    },
    {
      "cell_type": "markdown",
      "metadata": {
        "id": "8yFtcUAN-7je"
      },
      "source": [
        "- Grid Search encontró un modelo más simple con profundidad 3, con criterio gini y parámetros que permiten un árbol menos profundo, con un accuracy mas bajo pero por poco (≈0.74)."
      ]
    },
    {
      "cell_type": "markdown",
      "metadata": {
        "id": "gdKU8SwO-7je"
      },
      "source": [
        "### <font color='264CC7'> Optimización por RandomSearch </font>"
      ]
    },
    {
      "cell_type": "markdown",
      "metadata": {
        "id": "4GHAhm8c-7jf"
      },
      "source": [
        "<div style=\"background-color: #edf1f8; border-color: #264CC7; border-left: 5px solid #264CC7; padding: 0.5em;\">\n",
        "<strong>Ejercicio:</strong><br>\n",
        "    Aplica RandomSearch para optimizar los hiperparámetros del modelo.\n",
        "<ul>\n",
        "  <li>Para cada hiperparámetro, selecciona al menos 5 valores, si es posible.</li>\n",
        "  <li>Utiliza al menos 5 validaciones cruzadas.</li>\n",
        "  <li>Usa RandomSearchCV con 25 iteraciones.</li>\n",
        "  <li>Muestra los parámetros óptimos y su score.</li>\n",
        "</ul>\n",
        "</div>"
      ]
    },
    {
      "cell_type": "code",
      "execution_count": 20,
      "metadata": {
        "id": "AVMk8n70-7jf"
      },
      "outputs": [],
      "source": [
        "# Espacio de búsqueda para los hiperparámetros con al menos 5 opciones\n",
        "param_dist = {\n",
        "    'max_depth': [None, 3, 5, 7, 10, 15],\n",
        "    'min_samples_split': randint(2, 20),\n",
        "    'min_samples_leaf': randint(1, 20),\n",
        "    'criterion': ['gini', 'entropy'],\n",
        "    'max_features': [None, 'sqrt', 'log2']  # quitar 'auto'\n",
        "}\n"
      ]
    },
    {
      "cell_type": "code",
      "execution_count": 21,
      "metadata": {
        "id": "e5eXE5BS-7jf",
        "colab": {
          "base_uri": "https://localhost:8080/"
        },
        "outputId": "afc11d67-7538-4702-8a26-53f60a54858d"
      },
      "outputs": [
        {
          "output_type": "stream",
          "name": "stdout",
          "text": [
            "Mejores hiperparámetros: {'criterion': 'entropy', 'max_depth': None, 'max_features': 'sqrt', 'min_samples_leaf': 18, 'min_samples_split': 10}\n",
            "Mejor score (accuracy): 0.7638278022124483\n"
          ]
        }
      ],
      "source": [
        "# Validación cruzada con 5 splits\n",
        "k_fold = KFold(n_splits=5, shuffle=True, random_state=42)\n",
        "\n",
        "# RandomizedSearchCV con 25 iteraciones\n",
        "random_search = RandomizedSearchCV(estimator=modelo_base,\n",
        "                                   param_distributions=param_dist,\n",
        "                                   n_iter=25,\n",
        "                                   cv=k_fold,\n",
        "                                   scoring='accuracy',\n",
        "                                   random_state=42,\n",
        "                                   n_jobs=-1)\n",
        "\n",
        "# Entrenar el RandomizedSearch (usa tus datos reales en lugar de X_train, y_train)\n",
        "random_search.fit(X_train, y_train)\n",
        "\n",
        "# Mostrar los mejores hiperparámetros y score\n",
        "print(\"Mejores hiperparámetros:\", random_search.best_params_)\n",
        "print(\"Mejor score (accuracy):\", random_search.best_score_)"
      ]
    },
    {
      "cell_type": "markdown",
      "metadata": {
        "id": "lGXvE_jC-7jf"
      },
      "source": [
        "- Random Search encontró un modelo más complejo con profundidad ilimitada con restricciones más fuertes para evitar sobreajuste (min_samples_leaf=18, min_samples_split=10), usando el criterio entropy y limitando características con sqrt. Esto le da un mejor balance por lo que el accuracy resultó mayor (≈0.76)."
      ]
    },
    {
      "cell_type": "markdown",
      "metadata": {
        "id": "Z_eIFZ3h-7jg"
      },
      "source": [
        "### <font color='264CC7'> Guardado de modelo </font>"
      ]
    },
    {
      "cell_type": "markdown",
      "metadata": {
        "id": "gy2YyEIn-7jg"
      },
      "source": [
        "<div style=\"background-color: #edf1f8; border-color: #264CC7; border-left: 5px solid #264CC7; padding: 0.5em;\">\n",
        "<strong>Ejercicio:</strong><br>\n",
        "  Con los parámetros óptimos que mejor resultado dieron, reentrena el modelo, muestra su score y guárdalo.\n",
        "</div>"
      ]
    },
    {
      "cell_type": "code",
      "execution_count": 23,
      "metadata": {
        "id": "O6SXj4q2-7jg",
        "colab": {
          "base_uri": "https://localhost:8080/"
        },
        "outputId": "436d78d1-53d8-45de-d855-ade90fe2d119"
      },
      "outputs": [
        {
          "output_type": "stream",
          "name": "stdout",
          "text": [
            "Accuracy del modelo final en test: 0.7208\n"
          ]
        }
      ],
      "source": [
        "# Supongamos que X_train, X_test, y_train, y_test ya están definidos\n",
        "\n",
        "# Definir el modelo con los mejores hiperparámetros encontrados en Random Search\n",
        "modelo_final = DecisionTreeClassifier(\n",
        "    criterion='entropy',\n",
        "    max_depth=None,\n",
        "    max_features='sqrt',\n",
        "    min_samples_leaf=18,\n",
        "    min_samples_split=10,\n",
        "    random_state=42\n",
        ")\n",
        "\n",
        "# Entrenas el modelo con todo el conjunto de entrenamiento\n",
        "modelo_final.fit(X_train, y_train)\n",
        "\n",
        "# Evaluar el modelo en el conjunto de prueba\n",
        "score = modelo_final.score(X_test, y_test)\n",
        "print(f\"Accuracy del modelo final en test: {score:.4f}\")\n"
      ]
    },
    {
      "cell_type": "code",
      "execution_count": 24,
      "metadata": {
        "id": "5ewJ_W4E-7jh",
        "colab": {
          "base_uri": "https://localhost:8080/"
        },
        "outputId": "edc97660-50c7-4784-a4c6-16db54f1721e"
      },
      "outputs": [
        {
          "output_type": "execute_result",
          "data": {
            "text/plain": [
              "['modelo_arbol_decision_diabetes.joblib']"
            ]
          },
          "metadata": {},
          "execution_count": 24
        }
      ],
      "source": [
        "# Guardar el modelo\n",
        "joblib.dump(modelo_final, 'modelo_arbol_decision_diabetes.joblib')"
      ]
    },
    {
      "cell_type": "markdown",
      "metadata": {
        "id": "gigrpQlR-7jh"
      },
      "source": [
        "### <font color='264CC7'> Publicación </font>"
      ]
    },
    {
      "cell_type": "markdown",
      "metadata": {
        "id": "_dN2ebIo-7jh"
      },
      "source": [
        "<div style=\"background-color: #edf1f8; border-color: #264CC7; border-left: 5px solid #264CC7; padding: 0.5em;\">\n",
        "<strong>Ejercicio:</strong><br>\n",
        "  Coloca el este cuaderno y el modelo en tu repositorio de GitHub. Agrega una licencia MIT y un README.md donde se explique el contenido del repositorio, los datos utilizados y los resultados obtenidos.\n",
        "</div>"
      ]
    }
  ],
  "metadata": {
    "kernelspec": {
      "display_name": "Python 3",
      "language": "python",
      "name": "python3"
    },
    "language_info": {
      "codemirror_mode": {
        "name": "ipython",
        "version": 3
      },
      "file_extension": ".py",
      "mimetype": "text/x-python",
      "name": "python",
      "nbconvert_exporter": "python",
      "pygments_lexer": "ipython3",
      "version": "3.12.3"
    },
    "colab": {
      "provenance": []
    }
  },
  "nbformat": 4,
  "nbformat_minor": 0
}